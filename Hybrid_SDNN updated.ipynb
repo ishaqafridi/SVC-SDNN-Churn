{
  "cells": [
    {
      "cell_type": "code",
      "execution_count": null,
      "id": "55004ad5",
      "metadata": {
        "colab": {
          "base_uri": "https://localhost:8080/"
        },
        "id": "55004ad5",
        "outputId": "f1ac0ba3-29ae-40dc-bfe9-02031f9a420b"
      },
      "outputs": [
        {
          "output_type": "stream",
          "name": "stdout",
          "text": [
            "Requirement already satisfied: tensorflow in /usr/local/lib/python3.10/dist-packages (2.14.0)\n",
            "Requirement already satisfied: absl-py>=1.0.0 in /usr/local/lib/python3.10/dist-packages (from tensorflow) (1.4.0)\n",
            "Requirement already satisfied: astunparse>=1.6.0 in /usr/local/lib/python3.10/dist-packages (from tensorflow) (1.6.3)\n",
            "Requirement already satisfied: flatbuffers>=23.5.26 in /usr/local/lib/python3.10/dist-packages (from tensorflow) (23.5.26)\n",
            "Requirement already satisfied: gast!=0.5.0,!=0.5.1,!=0.5.2,>=0.2.1 in /usr/local/lib/python3.10/dist-packages (from tensorflow) (0.5.4)\n",
            "Requirement already satisfied: google-pasta>=0.1.1 in /usr/local/lib/python3.10/dist-packages (from tensorflow) (0.2.0)\n",
            "Requirement already satisfied: h5py>=2.9.0 in /usr/local/lib/python3.10/dist-packages (from tensorflow) (3.9.0)\n",
            "Requirement already satisfied: libclang>=13.0.0 in /usr/local/lib/python3.10/dist-packages (from tensorflow) (16.0.6)\n",
            "Requirement already satisfied: ml-dtypes==0.2.0 in /usr/local/lib/python3.10/dist-packages (from tensorflow) (0.2.0)\n",
            "Requirement already satisfied: numpy>=1.23.5 in /usr/local/lib/python3.10/dist-packages (from tensorflow) (1.23.5)\n",
            "Requirement already satisfied: opt-einsum>=2.3.2 in /usr/local/lib/python3.10/dist-packages (from tensorflow) (3.3.0)\n",
            "Requirement already satisfied: packaging in /usr/local/lib/python3.10/dist-packages (from tensorflow) (23.2)\n",
            "Requirement already satisfied: protobuf!=4.21.0,!=4.21.1,!=4.21.2,!=4.21.3,!=4.21.4,!=4.21.5,<5.0.0dev,>=3.20.3 in /usr/local/lib/python3.10/dist-packages (from tensorflow) (3.20.3)\n",
            "Requirement already satisfied: setuptools in /usr/local/lib/python3.10/dist-packages (from tensorflow) (67.7.2)\n",
            "Requirement already satisfied: six>=1.12.0 in /usr/local/lib/python3.10/dist-packages (from tensorflow) (1.16.0)\n",
            "Requirement already satisfied: termcolor>=1.1.0 in /usr/local/lib/python3.10/dist-packages (from tensorflow) (2.3.0)\n",
            "Requirement already satisfied: typing-extensions>=3.6.6 in /usr/local/lib/python3.10/dist-packages (from tensorflow) (4.5.0)\n",
            "Requirement already satisfied: wrapt<1.15,>=1.11.0 in /usr/local/lib/python3.10/dist-packages (from tensorflow) (1.14.1)\n",
            "Requirement already satisfied: tensorflow-io-gcs-filesystem>=0.23.1 in /usr/local/lib/python3.10/dist-packages (from tensorflow) (0.34.0)\n",
            "Requirement already satisfied: grpcio<2.0,>=1.24.3 in /usr/local/lib/python3.10/dist-packages (from tensorflow) (1.59.3)\n",
            "Requirement already satisfied: tensorboard<2.15,>=2.14 in /usr/local/lib/python3.10/dist-packages (from tensorflow) (2.14.1)\n",
            "Requirement already satisfied: tensorflow-estimator<2.15,>=2.14.0 in /usr/local/lib/python3.10/dist-packages (from tensorflow) (2.14.0)\n",
            "Requirement already satisfied: keras<2.15,>=2.14.0 in /usr/local/lib/python3.10/dist-packages (from tensorflow) (2.14.0)\n",
            "Requirement already satisfied: wheel<1.0,>=0.23.0 in /usr/local/lib/python3.10/dist-packages (from astunparse>=1.6.0->tensorflow) (0.42.0)\n",
            "Requirement already satisfied: google-auth<3,>=1.6.3 in /usr/local/lib/python3.10/dist-packages (from tensorboard<2.15,>=2.14->tensorflow) (2.17.3)\n",
            "Requirement already satisfied: google-auth-oauthlib<1.1,>=0.5 in /usr/local/lib/python3.10/dist-packages (from tensorboard<2.15,>=2.14->tensorflow) (1.0.0)\n",
            "Requirement already satisfied: markdown>=2.6.8 in /usr/local/lib/python3.10/dist-packages (from tensorboard<2.15,>=2.14->tensorflow) (3.5.1)\n",
            "Requirement already satisfied: requests<3,>=2.21.0 in /usr/local/lib/python3.10/dist-packages (from tensorboard<2.15,>=2.14->tensorflow) (2.31.0)\n",
            "Requirement already satisfied: tensorboard-data-server<0.8.0,>=0.7.0 in /usr/local/lib/python3.10/dist-packages (from tensorboard<2.15,>=2.14->tensorflow) (0.7.2)\n",
            "Requirement already satisfied: werkzeug>=1.0.1 in /usr/local/lib/python3.10/dist-packages (from tensorboard<2.15,>=2.14->tensorflow) (3.0.1)\n",
            "Requirement already satisfied: cachetools<6.0,>=2.0.0 in /usr/local/lib/python3.10/dist-packages (from google-auth<3,>=1.6.3->tensorboard<2.15,>=2.14->tensorflow) (5.3.2)\n",
            "Requirement already satisfied: pyasn1-modules>=0.2.1 in /usr/local/lib/python3.10/dist-packages (from google-auth<3,>=1.6.3->tensorboard<2.15,>=2.14->tensorflow) (0.3.0)\n",
            "Requirement already satisfied: rsa<5,>=3.1.4 in /usr/local/lib/python3.10/dist-packages (from google-auth<3,>=1.6.3->tensorboard<2.15,>=2.14->tensorflow) (4.9)\n",
            "Requirement already satisfied: requests-oauthlib>=0.7.0 in /usr/local/lib/python3.10/dist-packages (from google-auth-oauthlib<1.1,>=0.5->tensorboard<2.15,>=2.14->tensorflow) (1.3.1)\n",
            "Requirement already satisfied: charset-normalizer<4,>=2 in /usr/local/lib/python3.10/dist-packages (from requests<3,>=2.21.0->tensorboard<2.15,>=2.14->tensorflow) (3.3.2)\n",
            "Requirement already satisfied: idna<4,>=2.5 in /usr/local/lib/python3.10/dist-packages (from requests<3,>=2.21.0->tensorboard<2.15,>=2.14->tensorflow) (3.6)\n",
            "Requirement already satisfied: urllib3<3,>=1.21.1 in /usr/local/lib/python3.10/dist-packages (from requests<3,>=2.21.0->tensorboard<2.15,>=2.14->tensorflow) (2.0.7)\n",
            "Requirement already satisfied: certifi>=2017.4.17 in /usr/local/lib/python3.10/dist-packages (from requests<3,>=2.21.0->tensorboard<2.15,>=2.14->tensorflow) (2023.11.17)\n",
            "Requirement already satisfied: MarkupSafe>=2.1.1 in /usr/local/lib/python3.10/dist-packages (from werkzeug>=1.0.1->tensorboard<2.15,>=2.14->tensorflow) (2.1.3)\n",
            "Requirement already satisfied: pyasn1<0.6.0,>=0.4.6 in /usr/local/lib/python3.10/dist-packages (from pyasn1-modules>=0.2.1->google-auth<3,>=1.6.3->tensorboard<2.15,>=2.14->tensorflow) (0.5.1)\n",
            "Requirement already satisfied: oauthlib>=3.0.0 in /usr/local/lib/python3.10/dist-packages (from requests-oauthlib>=0.7.0->google-auth-oauthlib<1.1,>=0.5->tensorboard<2.15,>=2.14->tensorflow) (3.2.2)\n"
          ]
        }
      ],
      "source": [
        "pip install tensorflow"
      ]
    },
    {
      "cell_type": "code",
      "execution_count": null,
      "id": "aeb16d57",
      "metadata": {
        "ExecuteTime": {},
        "id": "aeb16d57"
      },
      "outputs": [],
      "source": [
        "# Import libraries\n",
        "import numpy as np\n",
        "import pandas as pd\n",
        "import matplotlib.pyplot as plt\n",
        "from sklearn.model_selection import train_test_split\n",
        "from sklearn.preprocessing import StandardScaler\n",
        "from sklearn.utils.class_weight import compute_class_weight\n",
        "from sklearn.svm import SVC\n",
        "from sklearn.ensemble import RandomForestClassifier\n",
        "from tensorflow.keras.models import Sequential\n",
        "from tensorflow.keras.layers import Dense, Dropout\n",
        "\n",
        "# Evaluating the model\n",
        "from sklearn.metrics import accuracy_score\n",
        "from sklearn.metrics import precision_score\n",
        "from sklearn.metrics import recall_score\n",
        "from sklearn.metrics import f1_score\n",
        "from sklearn.metrics import roc_auc_score\n",
        "from sklearn.metrics import classification_report\n",
        "from sklearn.metrics import confusion_matrix"
      ]
    },
    {
      "cell_type": "code",
      "execution_count": null,
      "id": "a3a009a0",
      "metadata": {
        "ExecuteTime": {},
        "id": "a3a009a0"
      },
      "outputs": [],
      "source": [
        "# Load dataset. The model can be adjusted for dataset with variable attributes.\n",
        "#both datasets can be found at https://www.kaggle.com/datasets/bhuviranga/customer-churn-data and https://www.kaggle.com/datasets/gauravtopre/bank-customer-churn-dataset?resource=download respectivaly.\n",
        "data = pd.read_csv('/content/Bank Customer Churn Prediction.csv')"
      ]
    },
    {
      "cell_type": "code",
      "execution_count": null,
      "id": "430ef4e6",
      "metadata": {
        "ExecuteTime": {},
        "colab": {
          "base_uri": "https://localhost:8080/"
        },
        "id": "430ef4e6",
        "outputId": "8836ecbd-6715-486f-cade-1275bfdb57c4"
      },
      "outputs": [
        {
          "output_type": "execute_result",
          "data": {
            "text/plain": [
              "Index(['customer_id', 'credit_score', 'country', 'gender', 'age', 'tenure',\n",
              "       'balance', 'products_number', 'credit_card', 'active_member',\n",
              "       'estimated_salary', 'churn'],\n",
              "      dtype='object')"
            ]
          },
          "metadata": {},
          "execution_count": 4
        }
      ],
      "source": [
        "data.columns"
      ]
    },
    {
      "cell_type": "markdown",
      "source": [
        "This dataset contains 12 customer attributes for churn prediction, including:\n",
        "\n",
        "    Identifiers: customer_id (unique identifier)\n",
        "\n",
        "    Demographics: country, gender, age\n",
        "\n",
        "    Financial metrics: credit_score, balance, estimated_salary\n",
        "\n",
        "    Engagement features: tenure (account age), products_number, credit_card (binary), active_member (binary)\n",
        "\n",
        "    Target variable: churn (binary classification label)\n",
        "\n",
        "The structure suggests a tabular dataset typical for customer churn analysis, mixing numerical (age, balance) and categorical (country, gender) features. The presence of customer_id indicates row-level uniqueness, while churn as the last column confirms it's the prediction target.\n"
      ],
      "metadata": {
        "id": "vuzg6mRqikaE"
      },
      "id": "vuzg6mRqikaE"
    },
    {
      "cell_type": "markdown",
      "source": [],
      "metadata": {
        "id": "MFZfvusjiM3A"
      },
      "id": "MFZfvusjiM3A"
    },
    {
      "cell_type": "code",
      "execution_count": null,
      "id": "339355cb",
      "metadata": {
        "ExecuteTime": {},
        "id": "339355cb"
      },
      "outputs": [],
      "source": [
        "df = data[:][['balance', 'products_number', 'credit_score', 'credit_card', 'active_member', 'churn']]"
      ]
    },
    {
      "cell_type": "code",
      "execution_count": null,
      "id": "be191fbb",
      "metadata": {
        "ExecuteTime": {},
        "scrolled": true,
        "colab": {
          "base_uri": "https://localhost:8080/",
          "height": 687
        },
        "id": "be191fbb",
        "outputId": "d87e7ce9-2e92-4234-fdb3-54affffdbda1"
      },
      "outputs": [
        {
          "output_type": "execute_result",
          "data": {
            "text/plain": [
              "        balance  products_number  credit_score  credit_card  active_member  \\\n",
              "0          0.00                1           619            1              1   \n",
              "1      83807.86                1           608            0              1   \n",
              "2     159660.80                3           502            1              0   \n",
              "3          0.00                2           699            0              0   \n",
              "4     125510.82                1           850            1              1   \n",
              "...         ...              ...           ...          ...            ...   \n",
              "9995       0.00                2           771            1              0   \n",
              "9996   57369.61                1           516            1              1   \n",
              "9997       0.00                1           709            0              1   \n",
              "9998   75075.31                2           772            1              0   \n",
              "9999  130142.79                1           792            1              0   \n",
              "\n",
              "      churn  \n",
              "0         1  \n",
              "1         0  \n",
              "2         1  \n",
              "3         0  \n",
              "4         0  \n",
              "...     ...  \n",
              "9995      0  \n",
              "9996      0  \n",
              "9997      1  \n",
              "9998      1  \n",
              "9999      0  \n",
              "\n",
              "[10000 rows x 6 columns]"
            ],
            "text/html": [
              "\n",
              "  <div id=\"df-7b5aa6a8-33b3-4df1-8621-c891fd528cb4\" class=\"colab-df-container\">\n",
              "    <div>\n",
              "<style scoped>\n",
              "    .dataframe tbody tr th:only-of-type {\n",
              "        vertical-align: middle;\n",
              "    }\n",
              "\n",
              "    .dataframe tbody tr th {\n",
              "        vertical-align: top;\n",
              "    }\n",
              "\n",
              "    .dataframe thead th {\n",
              "        text-align: right;\n",
              "    }\n",
              "</style>\n",
              "<table border=\"1\" class=\"dataframe\">\n",
              "  <thead>\n",
              "    <tr style=\"text-align: right;\">\n",
              "      <th></th>\n",
              "      <th>balance</th>\n",
              "      <th>products_number</th>\n",
              "      <th>credit_score</th>\n",
              "      <th>credit_card</th>\n",
              "      <th>active_member</th>\n",
              "      <th>churn</th>\n",
              "    </tr>\n",
              "  </thead>\n",
              "  <tbody>\n",
              "    <tr>\n",
              "      <th>0</th>\n",
              "      <td>0.00</td>\n",
              "      <td>1</td>\n",
              "      <td>619</td>\n",
              "      <td>1</td>\n",
              "      <td>1</td>\n",
              "      <td>1</td>\n",
              "    </tr>\n",
              "    <tr>\n",
              "      <th>1</th>\n",
              "      <td>83807.86</td>\n",
              "      <td>1</td>\n",
              "      <td>608</td>\n",
              "      <td>0</td>\n",
              "      <td>1</td>\n",
              "      <td>0</td>\n",
              "    </tr>\n",
              "    <tr>\n",
              "      <th>2</th>\n",
              "      <td>159660.80</td>\n",
              "      <td>3</td>\n",
              "      <td>502</td>\n",
              "      <td>1</td>\n",
              "      <td>0</td>\n",
              "      <td>1</td>\n",
              "    </tr>\n",
              "    <tr>\n",
              "      <th>3</th>\n",
              "      <td>0.00</td>\n",
              "      <td>2</td>\n",
              "      <td>699</td>\n",
              "      <td>0</td>\n",
              "      <td>0</td>\n",
              "      <td>0</td>\n",
              "    </tr>\n",
              "    <tr>\n",
              "      <th>4</th>\n",
              "      <td>125510.82</td>\n",
              "      <td>1</td>\n",
              "      <td>850</td>\n",
              "      <td>1</td>\n",
              "      <td>1</td>\n",
              "      <td>0</td>\n",
              "    </tr>\n",
              "    <tr>\n",
              "      <th>...</th>\n",
              "      <td>...</td>\n",
              "      <td>...</td>\n",
              "      <td>...</td>\n",
              "      <td>...</td>\n",
              "      <td>...</td>\n",
              "      <td>...</td>\n",
              "    </tr>\n",
              "    <tr>\n",
              "      <th>9995</th>\n",
              "      <td>0.00</td>\n",
              "      <td>2</td>\n",
              "      <td>771</td>\n",
              "      <td>1</td>\n",
              "      <td>0</td>\n",
              "      <td>0</td>\n",
              "    </tr>\n",
              "    <tr>\n",
              "      <th>9996</th>\n",
              "      <td>57369.61</td>\n",
              "      <td>1</td>\n",
              "      <td>516</td>\n",
              "      <td>1</td>\n",
              "      <td>1</td>\n",
              "      <td>0</td>\n",
              "    </tr>\n",
              "    <tr>\n",
              "      <th>9997</th>\n",
              "      <td>0.00</td>\n",
              "      <td>1</td>\n",
              "      <td>709</td>\n",
              "      <td>0</td>\n",
              "      <td>1</td>\n",
              "      <td>1</td>\n",
              "    </tr>\n",
              "    <tr>\n",
              "      <th>9998</th>\n",
              "      <td>75075.31</td>\n",
              "      <td>2</td>\n",
              "      <td>772</td>\n",
              "      <td>1</td>\n",
              "      <td>0</td>\n",
              "      <td>1</td>\n",
              "    </tr>\n",
              "    <tr>\n",
              "      <th>9999</th>\n",
              "      <td>130142.79</td>\n",
              "      <td>1</td>\n",
              "      <td>792</td>\n",
              "      <td>1</td>\n",
              "      <td>0</td>\n",
              "      <td>0</td>\n",
              "    </tr>\n",
              "  </tbody>\n",
              "</table>\n",
              "<p>10000 rows × 6 columns</p>\n",
              "</div>\n",
              "    <div class=\"colab-df-buttons\">\n",
              "\n",
              "  <div class=\"colab-df-container\">\n",
              "    <button class=\"colab-df-convert\" onclick=\"convertToInteractive('df-7b5aa6a8-33b3-4df1-8621-c891fd528cb4')\"\n",
              "            title=\"Convert this dataframe to an interactive table.\"\n",
              "            style=\"display:none;\">\n",
              "\n",
              "  <svg xmlns=\"http://www.w3.org/2000/svg\" height=\"24px\" viewBox=\"0 -960 960 960\">\n",
              "    <path d=\"M120-120v-720h720v720H120Zm60-500h600v-160H180v160Zm220 220h160v-160H400v160Zm0 220h160v-160H400v160ZM180-400h160v-160H180v160Zm440 0h160v-160H620v160ZM180-180h160v-160H180v160Zm440 0h160v-160H620v160Z\"/>\n",
              "  </svg>\n",
              "    </button>\n",
              "\n",
              "  <style>\n",
              "    .colab-df-container {\n",
              "      display:flex;\n",
              "      gap: 12px;\n",
              "    }\n",
              "\n",
              "    .colab-df-convert {\n",
              "      background-color: #E8F0FE;\n",
              "      border: none;\n",
              "      border-radius: 50%;\n",
              "      cursor: pointer;\n",
              "      display: none;\n",
              "      fill: #1967D2;\n",
              "      height: 32px;\n",
              "      padding: 0 0 0 0;\n",
              "      width: 32px;\n",
              "    }\n",
              "\n",
              "    .colab-df-convert:hover {\n",
              "      background-color: #E2EBFA;\n",
              "      box-shadow: 0px 1px 2px rgba(60, 64, 67, 0.3), 0px 1px 3px 1px rgba(60, 64, 67, 0.15);\n",
              "      fill: #174EA6;\n",
              "    }\n",
              "\n",
              "    .colab-df-buttons div {\n",
              "      margin-bottom: 4px;\n",
              "    }\n",
              "\n",
              "    [theme=dark] .colab-df-convert {\n",
              "      background-color: #3B4455;\n",
              "      fill: #D2E3FC;\n",
              "    }\n",
              "\n",
              "    [theme=dark] .colab-df-convert:hover {\n",
              "      background-color: #434B5C;\n",
              "      box-shadow: 0px 1px 3px 1px rgba(0, 0, 0, 0.15);\n",
              "      filter: drop-shadow(0px 1px 2px rgba(0, 0, 0, 0.3));\n",
              "      fill: #FFFFFF;\n",
              "    }\n",
              "  </style>\n",
              "\n",
              "    <script>\n",
              "      const buttonEl =\n",
              "        document.querySelector('#df-7b5aa6a8-33b3-4df1-8621-c891fd528cb4 button.colab-df-convert');\n",
              "      buttonEl.style.display =\n",
              "        google.colab.kernel.accessAllowed ? 'block' : 'none';\n",
              "\n",
              "      async function convertToInteractive(key) {\n",
              "        const element = document.querySelector('#df-7b5aa6a8-33b3-4df1-8621-c891fd528cb4');\n",
              "        const dataTable =\n",
              "          await google.colab.kernel.invokeFunction('convertToInteractive',\n",
              "                                                    [key], {});\n",
              "        if (!dataTable) return;\n",
              "\n",
              "        const docLinkHtml = 'Like what you see? Visit the ' +\n",
              "          '<a target=\"_blank\" href=https://colab.research.google.com/notebooks/data_table.ipynb>data table notebook</a>'\n",
              "          + ' to learn more about interactive tables.';\n",
              "        element.innerHTML = '';\n",
              "        dataTable['output_type'] = 'display_data';\n",
              "        await google.colab.output.renderOutput(dataTable, element);\n",
              "        const docLink = document.createElement('div');\n",
              "        docLink.innerHTML = docLinkHtml;\n",
              "        element.appendChild(docLink);\n",
              "      }\n",
              "    </script>\n",
              "  </div>\n",
              "\n",
              "\n",
              "<div id=\"df-bb9f6689-923c-4d92-895a-92459d02f23d\">\n",
              "  <button class=\"colab-df-quickchart\" onclick=\"quickchart('df-bb9f6689-923c-4d92-895a-92459d02f23d')\"\n",
              "            title=\"Suggest charts\"\n",
              "            style=\"display:none;\">\n",
              "\n",
              "<svg xmlns=\"http://www.w3.org/2000/svg\" height=\"24px\"viewBox=\"0 0 24 24\"\n",
              "     width=\"24px\">\n",
              "    <g>\n",
              "        <path d=\"M19 3H5c-1.1 0-2 .9-2 2v14c0 1.1.9 2 2 2h14c1.1 0 2-.9 2-2V5c0-1.1-.9-2-2-2zM9 17H7v-7h2v7zm4 0h-2V7h2v10zm4 0h-2v-4h2v4z\"/>\n",
              "    </g>\n",
              "</svg>\n",
              "  </button>\n",
              "\n",
              "<style>\n",
              "  .colab-df-quickchart {\n",
              "      --bg-color: #E8F0FE;\n",
              "      --fill-color: #1967D2;\n",
              "      --hover-bg-color: #E2EBFA;\n",
              "      --hover-fill-color: #174EA6;\n",
              "      --disabled-fill-color: #AAA;\n",
              "      --disabled-bg-color: #DDD;\n",
              "  }\n",
              "\n",
              "  [theme=dark] .colab-df-quickchart {\n",
              "      --bg-color: #3B4455;\n",
              "      --fill-color: #D2E3FC;\n",
              "      --hover-bg-color: #434B5C;\n",
              "      --hover-fill-color: #FFFFFF;\n",
              "      --disabled-bg-color: #3B4455;\n",
              "      --disabled-fill-color: #666;\n",
              "  }\n",
              "\n",
              "  .colab-df-quickchart {\n",
              "    background-color: var(--bg-color);\n",
              "    border: none;\n",
              "    border-radius: 50%;\n",
              "    cursor: pointer;\n",
              "    display: none;\n",
              "    fill: var(--fill-color);\n",
              "    height: 32px;\n",
              "    padding: 0;\n",
              "    width: 32px;\n",
              "  }\n",
              "\n",
              "  .colab-df-quickchart:hover {\n",
              "    background-color: var(--hover-bg-color);\n",
              "    box-shadow: 0 1px 2px rgba(60, 64, 67, 0.3), 0 1px 3px 1px rgba(60, 64, 67, 0.15);\n",
              "    fill: var(--button-hover-fill-color);\n",
              "  }\n",
              "\n",
              "  .colab-df-quickchart-complete:disabled,\n",
              "  .colab-df-quickchart-complete:disabled:hover {\n",
              "    background-color: var(--disabled-bg-color);\n",
              "    fill: var(--disabled-fill-color);\n",
              "    box-shadow: none;\n",
              "  }\n",
              "\n",
              "  .colab-df-spinner {\n",
              "    border: 2px solid var(--fill-color);\n",
              "    border-color: transparent;\n",
              "    border-bottom-color: var(--fill-color);\n",
              "    animation:\n",
              "      spin 1s steps(1) infinite;\n",
              "  }\n",
              "\n",
              "  @keyframes spin {\n",
              "    0% {\n",
              "      border-color: transparent;\n",
              "      border-bottom-color: var(--fill-color);\n",
              "      border-left-color: var(--fill-color);\n",
              "    }\n",
              "    20% {\n",
              "      border-color: transparent;\n",
              "      border-left-color: var(--fill-color);\n",
              "      border-top-color: var(--fill-color);\n",
              "    }\n",
              "    30% {\n",
              "      border-color: transparent;\n",
              "      border-left-color: var(--fill-color);\n",
              "      border-top-color: var(--fill-color);\n",
              "      border-right-color: var(--fill-color);\n",
              "    }\n",
              "    40% {\n",
              "      border-color: transparent;\n",
              "      border-right-color: var(--fill-color);\n",
              "      border-top-color: var(--fill-color);\n",
              "    }\n",
              "    60% {\n",
              "      border-color: transparent;\n",
              "      border-right-color: var(--fill-color);\n",
              "    }\n",
              "    80% {\n",
              "      border-color: transparent;\n",
              "      border-right-color: var(--fill-color);\n",
              "      border-bottom-color: var(--fill-color);\n",
              "    }\n",
              "    90% {\n",
              "      border-color: transparent;\n",
              "      border-bottom-color: var(--fill-color);\n",
              "    }\n",
              "  }\n",
              "</style>\n",
              "\n",
              "  <script>\n",
              "    async function quickchart(key) {\n",
              "      const quickchartButtonEl =\n",
              "        document.querySelector('#' + key + ' button');\n",
              "      quickchartButtonEl.disabled = true;  // To prevent multiple clicks.\n",
              "      quickchartButtonEl.classList.add('colab-df-spinner');\n",
              "      try {\n",
              "        const charts = await google.colab.kernel.invokeFunction(\n",
              "            'suggestCharts', [key], {});\n",
              "      } catch (error) {\n",
              "        console.error('Error during call to suggestCharts:', error);\n",
              "      }\n",
              "      quickchartButtonEl.classList.remove('colab-df-spinner');\n",
              "      quickchartButtonEl.classList.add('colab-df-quickchart-complete');\n",
              "    }\n",
              "    (() => {\n",
              "      let quickchartButtonEl =\n",
              "        document.querySelector('#df-bb9f6689-923c-4d92-895a-92459d02f23d button');\n",
              "      quickchartButtonEl.style.display =\n",
              "        google.colab.kernel.accessAllowed ? 'block' : 'none';\n",
              "    })();\n",
              "  </script>\n",
              "</div>\n",
              "    </div>\n",
              "  </div>\n"
            ]
          },
          "metadata": {},
          "execution_count": 6
        }
      ],
      "source": [
        "df"
      ]
    },
    {
      "cell_type": "code",
      "execution_count": null,
      "id": "f67de879",
      "metadata": {
        "ExecuteTime": {},
        "colab": {
          "base_uri": "https://localhost:8080/"
        },
        "id": "f67de879",
        "outputId": "7fae2025-60a3-4c1d-a6f7-fbcebea44268"
      },
      "outputs": [
        {
          "output_type": "execute_result",
          "data": {
            "text/plain": [
              "(7963, 2037)"
            ]
          },
          "metadata": {},
          "execution_count": 6
        }
      ],
      "source": [
        "df['churn'].value_counts()[0], df['churn'].value_counts()[1]"
      ]
    },
    {
      "cell_type": "code",
      "execution_count": null,
      "id": "49604987",
      "metadata": {
        "ExecuteTime": {},
        "id": "49604987"
      },
      "outputs": [],
      "source": [
        "# Preprocessing\n",
        "X = df.iloc[:, :-1].values\n",
        "y = df.iloc[:, -1].values"
      ]
    },
    {
      "cell_type": "code",
      "execution_count": null,
      "id": "cfb12450",
      "metadata": {
        "ExecuteTime": {},
        "id": "cfb12450"
      },
      "outputs": [],
      "source": [
        "X_train, X_test, y_train, y_test = train_test_split(X, y, test_size=0.2, random_state=42, stratify=y)\n",
        "sc = StandardScaler()\n",
        "X_train = sc.fit_transform(X_train)\n",
        "X_test = sc.transform(X_test)"
      ]
    },
    {
      "cell_type": "markdown",
      "source": [
        "This code snippet performs data splitting and standardization for machine learning:\n",
        "\n",
        "    train_test_split divides the dataset (X, y) into:\n",
        "\n",
        "        80% training data (X_train, y_train)\n",
        "\n",
        "        20% testing data (X_test, y_test)\n",
        "\n",
        "        stratify=y ensures balanced class distribution in both sets\n",
        "\n",
        "        random_state=42 guarantees reproducible splits\n",
        "\n",
        "    StandardScaler standardizes features by:\n",
        "\n",
        "        Calculating mean/std from training data only (fit_transform)\n",
        "\n",
        "        Applying the same scaling to test data (transform) to avoid data leakage\n",
        "\n",
        "Key purpose: Prepares data for model training/evaluation by ensuring consistent scales and unbiased splits."
      ],
      "metadata": {
        "id": "Tak6j4eyjO9b"
      },
      "id": "Tak6j4eyjO9b"
    },
    {
      "cell_type": "code",
      "execution_count": null,
      "id": "d7d87264",
      "metadata": {
        "ExecuteTime": {},
        "id": "d7d87264"
      },
      "outputs": [],
      "source": [
        "# Save the array to a file\n",
        "np.save('X_train.npy', X_train)\n",
        "np.save('X_test.npy', X_test)\n",
        "np.save('y_train.npy', y_train)\n",
        "np.save('y_test.npy', y_test)"
      ]
    },
    {
      "cell_type": "code",
      "execution_count": null,
      "id": "a8576437",
      "metadata": {
        "ExecuteTime": {},
        "id": "a8576437"
      },
      "outputs": [],
      "source": [
        "# Compute class weights\n",
        "class_weights = compute_class_weight(class_weight='balanced', classes=np.unique(y_train), y=np.ravel(y_train))"
      ]
    },
    {
      "cell_type": "code",
      "execution_count": null,
      "id": "e34ea909",
      "metadata": {
        "ExecuteTime": {},
        "colab": {
          "base_uri": "https://localhost:8080/"
        },
        "id": "e34ea909",
        "outputId": "842f3a8d-e184-424a-b720-d17012ae8f4c"
      },
      "outputs": [
        {
          "output_type": "execute_result",
          "data": {
            "text/plain": [
              "array([0.62794349, 2.45398773])"
            ]
          },
          "metadata": {},
          "execution_count": 11
        }
      ],
      "source": [
        "class_weights"
      ]
    },
    {
      "cell_type": "code",
      "execution_count": null,
      "id": "034d3cb6",
      "metadata": {
        "ExecuteTime": {},
        "colab": {
          "base_uri": "https://localhost:8080/"
        },
        "id": "034d3cb6",
        "outputId": "03d855b6-1f46-4e9c-b247-e74aa9c1c250"
      },
      "outputs": [
        {
          "output_type": "stream",
          "name": "stdout",
          "text": [
            "Model: \"sequential_1\"\n",
            "_________________________________________________________________\n",
            " Layer (type)                Output Shape              Param #   \n",
            "=================================================================\n",
            " dense_3 (Dense)             (None, 16)                96        \n",
            "                                                                 \n",
            " dropout_2 (Dropout)         (None, 16)                0         \n",
            "                                                                 \n",
            " dense_4 (Dense)             (None, 8)                 136       \n",
            "                                                                 \n",
            " dropout_3 (Dropout)         (None, 8)                 0         \n",
            "                                                                 \n",
            " dense_5 (Dense)             (None, 1)                 9         \n",
            "                                                                 \n",
            "=================================================================\n",
            "Total params: 241 (964.00 Byte)\n",
            "Trainable params: 241 (964.00 Byte)\n",
            "Non-trainable params: 0 (0.00 Byte)\n",
            "_________________________________________________________________\n"
          ]
        }
      ],
      "source": [
        "# Building ANN model\n",
        "classifier_ann = Sequential()\n",
        "classifier_ann.add(Dense(units=16, kernel_initializer='uniform', activation='relu', input_dim=5))\n",
        "classifier_ann.add(Dropout(rate=0.1))\n",
        "classifier_ann.add(Dense(units=8, kernel_initializer='uniform', activation='relu'))\n",
        "classifier_ann.add(Dropout(rate=0.1))\n",
        "classifier_ann.add(Dense(units=1, kernel_initializer='uniform', activation='sigmoid'))\n",
        "classifier_ann.compile(optimizer='adam', loss='binary_crossentropy', metrics=['accuracy'])\n",
        "classifier_ann.summary()"
      ]
    },
    {
      "cell_type": "markdown",
      "source": [
        "This code defines a 3-layer artificial neural network (ANN) for binary classification:\n",
        "\n",
        "    Architecture:\n",
        "\n",
        "        Input layer: 16 neurons (ReLU activation) for 5 input features\n",
        "\n",
        "        Hidden layer: 8 neurons (ReLU activation)\n",
        "\n",
        "        Output layer: 1 neuron (sigmoid activation) for binary prediction\n",
        "\n",
        "    Regularization:\n",
        "\n",
        "        Dropout (10%) after each hidden layer to prevent overfitting.\n",
        "\n",
        "    Training Setup:\n",
        "\n",
        "        Optimizer: Adam (adaptive learning rate)\n",
        "\n",
        "        Loss: Binary cross-entropy (suited for yes/no outcomes)\n",
        "\n",
        "        Metric: Accuracy\n",
        "\n",
        "    Use Case:\n",
        "\n",
        "        Designed for tasks like customer churn prediction (outputs probabilities between 0 and 1).\n",
        "\n",
        "The .summary() call displays the layer structure and parameter count.\n",
        "\n",
        "(Key: ReLU enables nonlinear learning; sigmoid ensures probabilistic outputs; dropout improves generalization.)"
      ],
      "metadata": {
        "id": "9td-3ixCjxjk"
      },
      "id": "9td-3ixCjxjk"
    },
    {
      "cell_type": "code",
      "execution_count": null,
      "id": "d99fc3c1",
      "metadata": {
        "ExecuteTime": {},
        "id": "d99fc3c1"
      },
      "outputs": [],
      "source": [
        "# Building other models\n",
        "classifier_rf = RandomForestClassifier(n_estimators=10, criterion='entropy', random_state=0, class_weight='balanced')\n",
        "classifier_svm = SVC(C = 2.8, kernel='sigmoid', random_state=0, probability=True, class_weight='balanced')"
      ]
    },
    {
      "cell_type": "markdown",
      "source": [
        "This code defines two machine learning models:\n",
        "\n",
        "Random Forest Classifier (classifier_rf): An ensemble model using 10 decision trees (n_estimators=10). It uses entropy to measure the quality of splits, ensures reproducibility with random_state=0, and addresses class imbalance by automatically adjusting weights based on class frequencies (class_weight='balanced').\n",
        "Support Vector Machine (classifier_svm): A classification model with a sigmoid kernel for non-linear separation. It has a regularization parameter C of 2.8, ensures reproducibility with random_state=0, is configured to output probability estimates (probability=True), and also handles class imbalance using class_weight='balanced'."
      ],
      "metadata": {
        "id": "l6pa6gAHkJBL"
      },
      "id": "l6pa6gAHkJBL"
    },
    {
      "cell_type": "markdown",
      "id": "c22b64d4",
      "metadata": {
        "id": "c22b64d4"
      },
      "source": [
        "### Fitting the models"
      ]
    },
    {
      "cell_type": "code",
      "execution_count": null,
      "id": "17744ba4",
      "metadata": {
        "ExecuteTime": {},
        "colab": {
          "base_uri": "https://localhost:8080/",
          "height": 92
        },
        "id": "17744ba4",
        "outputId": "6ff9472c-a7c1-43df-f1b7-3ccee7e7aa84"
      },
      "outputs": [
        {
          "output_type": "execute_result",
          "data": {
            "text/plain": [
              "RandomForestClassifier(class_weight='balanced', criterion='entropy',\n",
              "                       n_estimators=10, random_state=0)"
            ],
            "text/html": [
              "<style>#sk-container-id-1 {color: black;background-color: white;}#sk-container-id-1 pre{padding: 0;}#sk-container-id-1 div.sk-toggleable {background-color: white;}#sk-container-id-1 label.sk-toggleable__label {cursor: pointer;display: block;width: 100%;margin-bottom: 0;padding: 0.3em;box-sizing: border-box;text-align: center;}#sk-container-id-1 label.sk-toggleable__label-arrow:before {content: \"▸\";float: left;margin-right: 0.25em;color: #696969;}#sk-container-id-1 label.sk-toggleable__label-arrow:hover:before {color: black;}#sk-container-id-1 div.sk-estimator:hover label.sk-toggleable__label-arrow:before {color: black;}#sk-container-id-1 div.sk-toggleable__content {max-height: 0;max-width: 0;overflow: hidden;text-align: left;background-color: #f0f8ff;}#sk-container-id-1 div.sk-toggleable__content pre {margin: 0.2em;color: black;border-radius: 0.25em;background-color: #f0f8ff;}#sk-container-id-1 input.sk-toggleable__control:checked~div.sk-toggleable__content {max-height: 200px;max-width: 100%;overflow: auto;}#sk-container-id-1 input.sk-toggleable__control:checked~label.sk-toggleable__label-arrow:before {content: \"▾\";}#sk-container-id-1 div.sk-estimator input.sk-toggleable__control:checked~label.sk-toggleable__label {background-color: #d4ebff;}#sk-container-id-1 div.sk-label input.sk-toggleable__control:checked~label.sk-toggleable__label {background-color: #d4ebff;}#sk-container-id-1 input.sk-hidden--visually {border: 0;clip: rect(1px 1px 1px 1px);clip: rect(1px, 1px, 1px, 1px);height: 1px;margin: -1px;overflow: hidden;padding: 0;position: absolute;width: 1px;}#sk-container-id-1 div.sk-estimator {font-family: monospace;background-color: #f0f8ff;border: 1px dotted black;border-radius: 0.25em;box-sizing: border-box;margin-bottom: 0.5em;}#sk-container-id-1 div.sk-estimator:hover {background-color: #d4ebff;}#sk-container-id-1 div.sk-parallel-item::after {content: \"\";width: 100%;border-bottom: 1px solid gray;flex-grow: 1;}#sk-container-id-1 div.sk-label:hover label.sk-toggleable__label {background-color: #d4ebff;}#sk-container-id-1 div.sk-serial::before {content: \"\";position: absolute;border-left: 1px solid gray;box-sizing: border-box;top: 0;bottom: 0;left: 50%;z-index: 0;}#sk-container-id-1 div.sk-serial {display: flex;flex-direction: column;align-items: center;background-color: white;padding-right: 0.2em;padding-left: 0.2em;position: relative;}#sk-container-id-1 div.sk-item {position: relative;z-index: 1;}#sk-container-id-1 div.sk-parallel {display: flex;align-items: stretch;justify-content: center;background-color: white;position: relative;}#sk-container-id-1 div.sk-item::before, #sk-container-id-1 div.sk-parallel-item::before {content: \"\";position: absolute;border-left: 1px solid gray;box-sizing: border-box;top: 0;bottom: 0;left: 50%;z-index: -1;}#sk-container-id-1 div.sk-parallel-item {display: flex;flex-direction: column;z-index: 1;position: relative;background-color: white;}#sk-container-id-1 div.sk-parallel-item:first-child::after {align-self: flex-end;width: 50%;}#sk-container-id-1 div.sk-parallel-item:last-child::after {align-self: flex-start;width: 50%;}#sk-container-id-1 div.sk-parallel-item:only-child::after {width: 0;}#sk-container-id-1 div.sk-dashed-wrapped {border: 1px dashed gray;margin: 0 0.4em 0.5em 0.4em;box-sizing: border-box;padding-bottom: 0.4em;background-color: white;}#sk-container-id-1 div.sk-label label {font-family: monospace;font-weight: bold;display: inline-block;line-height: 1.2em;}#sk-container-id-1 div.sk-label-container {text-align: center;}#sk-container-id-1 div.sk-container {/* jupyter's `normalize.less` sets `[hidden] { display: none; }` but bootstrap.min.css set `[hidden] { display: none !important; }` so we also need the `!important` here to be able to override the default hidden behavior on the sphinx rendered scikit-learn.org. See: https://github.com/scikit-learn/scikit-learn/issues/21755 */display: inline-block !important;position: relative;}#sk-container-id-1 div.sk-text-repr-fallback {display: none;}</style><div id=\"sk-container-id-1\" class=\"sk-top-container\"><div class=\"sk-text-repr-fallback\"><pre>RandomForestClassifier(class_weight=&#x27;balanced&#x27;, criterion=&#x27;entropy&#x27;,\n",
              "                       n_estimators=10, random_state=0)</pre><b>In a Jupyter environment, please rerun this cell to show the HTML representation or trust the notebook. <br />On GitHub, the HTML representation is unable to render, please try loading this page with nbviewer.org.</b></div><div class=\"sk-container\" hidden><div class=\"sk-item\"><div class=\"sk-estimator sk-toggleable\"><input class=\"sk-toggleable__control sk-hidden--visually\" id=\"sk-estimator-id-1\" type=\"checkbox\" checked><label for=\"sk-estimator-id-1\" class=\"sk-toggleable__label sk-toggleable__label-arrow\">RandomForestClassifier</label><div class=\"sk-toggleable__content\"><pre>RandomForestClassifier(class_weight=&#x27;balanced&#x27;, criterion=&#x27;entropy&#x27;,\n",
              "                       n_estimators=10, random_state=0)</pre></div></div></div></div></div>"
            ]
          },
          "metadata": {},
          "execution_count": 16
        }
      ],
      "source": [
        "classifier_rf.fit(X_train, y_train)"
      ]
    },
    {
      "cell_type": "code",
      "execution_count": null,
      "id": "a4cd1203",
      "metadata": {
        "ExecuteTime": {},
        "colab": {
          "base_uri": "https://localhost:8080/",
          "height": 92
        },
        "id": "a4cd1203",
        "outputId": "39208364-7d1b-4db3-f212-f8913c73a8b2"
      },
      "outputs": [
        {
          "output_type": "execute_result",
          "data": {
            "text/plain": [
              "SVC(C=2.8, class_weight='balanced', kernel='sigmoid', probability=True,\n",
              "    random_state=0)"
            ],
            "text/html": [
              "<style>#sk-container-id-2 {color: black;background-color: white;}#sk-container-id-2 pre{padding: 0;}#sk-container-id-2 div.sk-toggleable {background-color: white;}#sk-container-id-2 label.sk-toggleable__label {cursor: pointer;display: block;width: 100%;margin-bottom: 0;padding: 0.3em;box-sizing: border-box;text-align: center;}#sk-container-id-2 label.sk-toggleable__label-arrow:before {content: \"▸\";float: left;margin-right: 0.25em;color: #696969;}#sk-container-id-2 label.sk-toggleable__label-arrow:hover:before {color: black;}#sk-container-id-2 div.sk-estimator:hover label.sk-toggleable__label-arrow:before {color: black;}#sk-container-id-2 div.sk-toggleable__content {max-height: 0;max-width: 0;overflow: hidden;text-align: left;background-color: #f0f8ff;}#sk-container-id-2 div.sk-toggleable__content pre {margin: 0.2em;color: black;border-radius: 0.25em;background-color: #f0f8ff;}#sk-container-id-2 input.sk-toggleable__control:checked~div.sk-toggleable__content {max-height: 200px;max-width: 100%;overflow: auto;}#sk-container-id-2 input.sk-toggleable__control:checked~label.sk-toggleable__label-arrow:before {content: \"▾\";}#sk-container-id-2 div.sk-estimator input.sk-toggleable__control:checked~label.sk-toggleable__label {background-color: #d4ebff;}#sk-container-id-2 div.sk-label input.sk-toggleable__control:checked~label.sk-toggleable__label {background-color: #d4ebff;}#sk-container-id-2 input.sk-hidden--visually {border: 0;clip: rect(1px 1px 1px 1px);clip: rect(1px, 1px, 1px, 1px);height: 1px;margin: -1px;overflow: hidden;padding: 0;position: absolute;width: 1px;}#sk-container-id-2 div.sk-estimator {font-family: monospace;background-color: #f0f8ff;border: 1px dotted black;border-radius: 0.25em;box-sizing: border-box;margin-bottom: 0.5em;}#sk-container-id-2 div.sk-estimator:hover {background-color: #d4ebff;}#sk-container-id-2 div.sk-parallel-item::after {content: \"\";width: 100%;border-bottom: 1px solid gray;flex-grow: 1;}#sk-container-id-2 div.sk-label:hover label.sk-toggleable__label {background-color: #d4ebff;}#sk-container-id-2 div.sk-serial::before {content: \"\";position: absolute;border-left: 1px solid gray;box-sizing: border-box;top: 0;bottom: 0;left: 50%;z-index: 0;}#sk-container-id-2 div.sk-serial {display: flex;flex-direction: column;align-items: center;background-color: white;padding-right: 0.2em;padding-left: 0.2em;position: relative;}#sk-container-id-2 div.sk-item {position: relative;z-index: 1;}#sk-container-id-2 div.sk-parallel {display: flex;align-items: stretch;justify-content: center;background-color: white;position: relative;}#sk-container-id-2 div.sk-item::before, #sk-container-id-2 div.sk-parallel-item::before {content: \"\";position: absolute;border-left: 1px solid gray;box-sizing: border-box;top: 0;bottom: 0;left: 50%;z-index: -1;}#sk-container-id-2 div.sk-parallel-item {display: flex;flex-direction: column;z-index: 1;position: relative;background-color: white;}#sk-container-id-2 div.sk-parallel-item:first-child::after {align-self: flex-end;width: 50%;}#sk-container-id-2 div.sk-parallel-item:last-child::after {align-self: flex-start;width: 50%;}#sk-container-id-2 div.sk-parallel-item:only-child::after {width: 0;}#sk-container-id-2 div.sk-dashed-wrapped {border: 1px dashed gray;margin: 0 0.4em 0.5em 0.4em;box-sizing: border-box;padding-bottom: 0.4em;background-color: white;}#sk-container-id-2 div.sk-label label {font-family: monospace;font-weight: bold;display: inline-block;line-height: 1.2em;}#sk-container-id-2 div.sk-label-container {text-align: center;}#sk-container-id-2 div.sk-container {/* jupyter's `normalize.less` sets `[hidden] { display: none; }` but bootstrap.min.css set `[hidden] { display: none !important; }` so we also need the `!important` here to be able to override the default hidden behavior on the sphinx rendered scikit-learn.org. See: https://github.com/scikit-learn/scikit-learn/issues/21755 */display: inline-block !important;position: relative;}#sk-container-id-2 div.sk-text-repr-fallback {display: none;}</style><div id=\"sk-container-id-2\" class=\"sk-top-container\"><div class=\"sk-text-repr-fallback\"><pre>SVC(C=2.8, class_weight=&#x27;balanced&#x27;, kernel=&#x27;sigmoid&#x27;, probability=True,\n",
              "    random_state=0)</pre><b>In a Jupyter environment, please rerun this cell to show the HTML representation or trust the notebook. <br />On GitHub, the HTML representation is unable to render, please try loading this page with nbviewer.org.</b></div><div class=\"sk-container\" hidden><div class=\"sk-item\"><div class=\"sk-estimator sk-toggleable\"><input class=\"sk-toggleable__control sk-hidden--visually\" id=\"sk-estimator-id-2\" type=\"checkbox\" checked><label for=\"sk-estimator-id-2\" class=\"sk-toggleable__label sk-toggleable__label-arrow\">SVC</label><div class=\"sk-toggleable__content\"><pre>SVC(C=2.8, class_weight=&#x27;balanced&#x27;, kernel=&#x27;sigmoid&#x27;, probability=True,\n",
              "    random_state=0)</pre></div></div></div></div></div>"
            ]
          },
          "metadata": {},
          "execution_count": 17
        }
      ],
      "source": [
        "classifier_svm.fit(X_train, y_train)"
      ]
    },
    {
      "cell_type": "code",
      "execution_count": null,
      "id": "a16c79c5",
      "metadata": {
        "ExecuteTime": {},
        "colab": {
          "base_uri": "https://localhost:8080/"
        },
        "id": "a16c79c5",
        "outputId": "2bb5e04d-af59-438b-b1cb-c128c1c726ec"
      },
      "outputs": [
        {
          "output_type": "stream",
          "name": "stdout",
          "text": [
            "Epoch 1/10\n",
            "450/450 [==============================] - 3s 4ms/step - loss: 0.5395 - accuracy: 0.7937 - val_loss: 0.4554 - val_accuracy: 0.8100\n",
            "Epoch 2/10\n",
            "450/450 [==============================] - 2s 3ms/step - loss: 0.4698 - accuracy: 0.8028 - val_loss: 0.4203 - val_accuracy: 0.8300\n",
            "Epoch 3/10\n",
            "450/450 [==============================] - 2s 3ms/step - loss: 0.4424 - accuracy: 0.8140 - val_loss: 0.4002 - val_accuracy: 0.8325\n",
            "Epoch 4/10\n",
            "450/450 [==============================] - 1s 3ms/step - loss: 0.4355 - accuracy: 0.8153 - val_loss: 0.3948 - val_accuracy: 0.8325\n",
            "Epoch 5/10\n",
            "450/450 [==============================] - 1s 2ms/step - loss: 0.4326 - accuracy: 0.8144 - val_loss: 0.3905 - val_accuracy: 0.8325\n",
            "Epoch 6/10\n",
            "450/450 [==============================] - 1s 2ms/step - loss: 0.4330 - accuracy: 0.8163 - val_loss: 0.3888 - val_accuracy: 0.8338\n",
            "Epoch 7/10\n",
            "450/450 [==============================] - 1s 2ms/step - loss: 0.4283 - accuracy: 0.8158 - val_loss: 0.3873 - val_accuracy: 0.8325\n",
            "Epoch 8/10\n",
            "450/450 [==============================] - 1s 3ms/step - loss: 0.4302 - accuracy: 0.8154 - val_loss: 0.3861 - val_accuracy: 0.8325\n",
            "Epoch 9/10\n",
            "450/450 [==============================] - 1s 3ms/step - loss: 0.4284 - accuracy: 0.8154 - val_loss: 0.3850 - val_accuracy: 0.8338\n",
            "Epoch 10/10\n",
            "450/450 [==============================] - 1s 2ms/step - loss: 0.4276 - accuracy: 0.8150 - val_loss: 0.3834 - val_accuracy: 0.8325\n"
          ]
        },
        {
          "output_type": "execute_result",
          "data": {
            "text/plain": [
              "<keras.src.callbacks.History at 0x7ca1ac9187f0>"
            ]
          },
          "metadata": {},
          "execution_count": 18
        }
      ],
      "source": [
        "classifier_ann.fit(X_train, y_train, batch_size= 16, validation_split=(0.1), epochs=10)"
      ]
    },
    {
      "cell_type": "markdown",
      "source": [
        "This line trains your Artificial Neural Network (ANN) model (classifier_ann) using the following settings:\n",
        "\n",
        "X_train, y_train: The input features and corresponding labels used for training.\n",
        "batch_size=16: The number of samples processed before updating the model's weights.\n",
        "validation_split=0.1: 10% of the training data is held out as a validation set to monitor performance during training.\n",
        "epochs=10: The model will iterate through the entire training dataset 10 times."
      ],
      "metadata": {
        "id": "buIfGsIMkY3n"
      },
      "id": "buIfGsIMkY3n"
    },
    {
      "cell_type": "code",
      "execution_count": null,
      "id": "1b4f79af",
      "metadata": {
        "ExecuteTime": {},
        "colab": {
          "base_uri": "https://localhost:8080/"
        },
        "id": "1b4f79af",
        "outputId": "f4724e9e-9446-4b6c-b0c7-bc73b70770f4"
      },
      "outputs": [
        {
          "output_type": "stream",
          "name": "stdout",
          "text": [
            "63/63 [==============================] - 0s 1ms/step\n"
          ]
        }
      ],
      "source": [
        "# Combining the models\n",
        "y_pred_rf = classifier_rf.predict_proba(X_test)[:, 1]\n",
        "y_pred_svm = classifier_svm.predict_proba(X_test)[:, 1]\n",
        "y_pred_ann = classifier_ann.predict(X_test)"
      ]
    },
    {
      "cell_type": "markdown",
      "source": [
        "These lines generate probability predictions from the trained models on the test data:\n",
        "\n",
        "y_pred_rf = classifier_rf.predict_proba(X_test)[:, 1]: Gets the predicted probabilities for the positive class (churn) from the Random Forest classifier. [:, 1] selects the probabilities for the second class (index 1).\n",
        "y_pred_svm = classifier_svm.predict_proba(X_test)[:, 1]: Gets the predicted probabilities for the positive class (churn) from the Support Vector Machine classifier.\n",
        "y_pred_ann = classifier_ann.predict(X_test): Gets the predicted probabilities from the Artificial Neural Network. Since the ANN has a single output neuron with a sigmoid activation, the output is already the probability of the positive class."
      ],
      "metadata": {
        "id": "eS6NYHeyk3Kw"
      },
      "id": "eS6NYHeyk3Kw"
    },
    {
      "cell_type": "code",
      "execution_count": null,
      "id": "ae8b5967",
      "metadata": {
        "ExecuteTime": {},
        "id": "ae8b5967"
      },
      "outputs": [],
      "source": [
        "# create an empty dataframe with sub-columns\n",
        "results = pd.DataFrame(columns=['RF', 'SVM', 'ANN', 'RF-SDNN', 'SVC-SDNN'],\n",
        "                        index=['accuracy', 'precision', 'recall', 'f1_score', 'auc_roc'])"
      ]
    },
    {
      "cell_type": "code",
      "execution_count": null,
      "id": "46f9419a",
      "metadata": {
        "ExecuteTime": {},
        "colab": {
          "base_uri": "https://localhost:8080/",
          "height": 206
        },
        "id": "46f9419a",
        "outputId": "cc61b0ee-ebeb-417c-a74e-3e1e9a0ee40d"
      },
      "outputs": [
        {
          "output_type": "execute_result",
          "data": {
            "text/plain": [
              "            RF  SVM  ANN RF-SDNN SVC-SDNN\n",
              "accuracy   NaN  NaN  NaN     NaN      NaN\n",
              "precision  NaN  NaN  NaN     NaN      NaN\n",
              "recall     NaN  NaN  NaN     NaN      NaN\n",
              "f1_score   NaN  NaN  NaN     NaN      NaN\n",
              "auc_roc    NaN  NaN  NaN     NaN      NaN"
            ],
            "text/html": [
              "\n",
              "  <div id=\"df-4131b6f7-070b-42cb-bb9d-f19a332096ce\" class=\"colab-df-container\">\n",
              "    <div>\n",
              "<style scoped>\n",
              "    .dataframe tbody tr th:only-of-type {\n",
              "        vertical-align: middle;\n",
              "    }\n",
              "\n",
              "    .dataframe tbody tr th {\n",
              "        vertical-align: top;\n",
              "    }\n",
              "\n",
              "    .dataframe thead th {\n",
              "        text-align: right;\n",
              "    }\n",
              "</style>\n",
              "<table border=\"1\" class=\"dataframe\">\n",
              "  <thead>\n",
              "    <tr style=\"text-align: right;\">\n",
              "      <th></th>\n",
              "      <th>RF</th>\n",
              "      <th>SVM</th>\n",
              "      <th>ANN</th>\n",
              "      <th>RF-SDNN</th>\n",
              "      <th>SVC-SDNN</th>\n",
              "    </tr>\n",
              "  </thead>\n",
              "  <tbody>\n",
              "    <tr>\n",
              "      <th>accuracy</th>\n",
              "      <td>NaN</td>\n",
              "      <td>NaN</td>\n",
              "      <td>NaN</td>\n",
              "      <td>NaN</td>\n",
              "      <td>NaN</td>\n",
              "    </tr>\n",
              "    <tr>\n",
              "      <th>precision</th>\n",
              "      <td>NaN</td>\n",
              "      <td>NaN</td>\n",
              "      <td>NaN</td>\n",
              "      <td>NaN</td>\n",
              "      <td>NaN</td>\n",
              "    </tr>\n",
              "    <tr>\n",
              "      <th>recall</th>\n",
              "      <td>NaN</td>\n",
              "      <td>NaN</td>\n",
              "      <td>NaN</td>\n",
              "      <td>NaN</td>\n",
              "      <td>NaN</td>\n",
              "    </tr>\n",
              "    <tr>\n",
              "      <th>f1_score</th>\n",
              "      <td>NaN</td>\n",
              "      <td>NaN</td>\n",
              "      <td>NaN</td>\n",
              "      <td>NaN</td>\n",
              "      <td>NaN</td>\n",
              "    </tr>\n",
              "    <tr>\n",
              "      <th>auc_roc</th>\n",
              "      <td>NaN</td>\n",
              "      <td>NaN</td>\n",
              "      <td>NaN</td>\n",
              "      <td>NaN</td>\n",
              "      <td>NaN</td>\n",
              "    </tr>\n",
              "  </tbody>\n",
              "</table>\n",
              "</div>\n",
              "    <div class=\"colab-df-buttons\">\n",
              "\n",
              "  <div class=\"colab-df-container\">\n",
              "    <button class=\"colab-df-convert\" onclick=\"convertToInteractive('df-4131b6f7-070b-42cb-bb9d-f19a332096ce')\"\n",
              "            title=\"Convert this dataframe to an interactive table.\"\n",
              "            style=\"display:none;\">\n",
              "\n",
              "  <svg xmlns=\"http://www.w3.org/2000/svg\" height=\"24px\" viewBox=\"0 -960 960 960\">\n",
              "    <path d=\"M120-120v-720h720v720H120Zm60-500h600v-160H180v160Zm220 220h160v-160H400v160Zm0 220h160v-160H400v160ZM180-400h160v-160H180v160Zm440 0h160v-160H620v160ZM180-180h160v-160H180v160Zm440 0h160v-160H620v160Z\"/>\n",
              "  </svg>\n",
              "    </button>\n",
              "\n",
              "  <style>\n",
              "    .colab-df-container {\n",
              "      display:flex;\n",
              "      gap: 12px;\n",
              "    }\n",
              "\n",
              "    .colab-df-convert {\n",
              "      background-color: #E8F0FE;\n",
              "      border: none;\n",
              "      border-radius: 50%;\n",
              "      cursor: pointer;\n",
              "      display: none;\n",
              "      fill: #1967D2;\n",
              "      height: 32px;\n",
              "      padding: 0 0 0 0;\n",
              "      width: 32px;\n",
              "    }\n",
              "\n",
              "    .colab-df-convert:hover {\n",
              "      background-color: #E2EBFA;\n",
              "      box-shadow: 0px 1px 2px rgba(60, 64, 67, 0.3), 0px 1px 3px 1px rgba(60, 64, 67, 0.15);\n",
              "      fill: #174EA6;\n",
              "    }\n",
              "\n",
              "    .colab-df-buttons div {\n",
              "      margin-bottom: 4px;\n",
              "    }\n",
              "\n",
              "    [theme=dark] .colab-df-convert {\n",
              "      background-color: #3B4455;\n",
              "      fill: #D2E3FC;\n",
              "    }\n",
              "\n",
              "    [theme=dark] .colab-df-convert:hover {\n",
              "      background-color: #434B5C;\n",
              "      box-shadow: 0px 1px 3px 1px rgba(0, 0, 0, 0.15);\n",
              "      filter: drop-shadow(0px 1px 2px rgba(0, 0, 0, 0.3));\n",
              "      fill: #FFFFFF;\n",
              "    }\n",
              "  </style>\n",
              "\n",
              "    <script>\n",
              "      const buttonEl =\n",
              "        document.querySelector('#df-4131b6f7-070b-42cb-bb9d-f19a332096ce button.colab-df-convert');\n",
              "      buttonEl.style.display =\n",
              "        google.colab.kernel.accessAllowed ? 'block' : 'none';\n",
              "\n",
              "      async function convertToInteractive(key) {\n",
              "        const element = document.querySelector('#df-4131b6f7-070b-42cb-bb9d-f19a332096ce');\n",
              "        const dataTable =\n",
              "          await google.colab.kernel.invokeFunction('convertToInteractive',\n",
              "                                                    [key], {});\n",
              "        if (!dataTable) return;\n",
              "\n",
              "        const docLinkHtml = 'Like what you see? Visit the ' +\n",
              "          '<a target=\"_blank\" href=https://colab.research.google.com/notebooks/data_table.ipynb>data table notebook</a>'\n",
              "          + ' to learn more about interactive tables.';\n",
              "        element.innerHTML = '';\n",
              "        dataTable['output_type'] = 'display_data';\n",
              "        await google.colab.output.renderOutput(dataTable, element);\n",
              "        const docLink = document.createElement('div');\n",
              "        docLink.innerHTML = docLinkHtml;\n",
              "        element.appendChild(docLink);\n",
              "      }\n",
              "    </script>\n",
              "  </div>\n",
              "\n",
              "\n",
              "<div id=\"df-b92e50e9-c312-4b79-b6db-2c47bf257799\">\n",
              "  <button class=\"colab-df-quickchart\" onclick=\"quickchart('df-b92e50e9-c312-4b79-b6db-2c47bf257799')\"\n",
              "            title=\"Suggest charts\"\n",
              "            style=\"display:none;\">\n",
              "\n",
              "<svg xmlns=\"http://www.w3.org/2000/svg\" height=\"24px\"viewBox=\"0 0 24 24\"\n",
              "     width=\"24px\">\n",
              "    <g>\n",
              "        <path d=\"M19 3H5c-1.1 0-2 .9-2 2v14c0 1.1.9 2 2 2h14c1.1 0 2-.9 2-2V5c0-1.1-.9-2-2-2zM9 17H7v-7h2v7zm4 0h-2V7h2v10zm4 0h-2v-4h2v4z\"/>\n",
              "    </g>\n",
              "</svg>\n",
              "  </button>\n",
              "\n",
              "<style>\n",
              "  .colab-df-quickchart {\n",
              "      --bg-color: #E8F0FE;\n",
              "      --fill-color: #1967D2;\n",
              "      --hover-bg-color: #E2EBFA;\n",
              "      --hover-fill-color: #174EA6;\n",
              "      --disabled-fill-color: #AAA;\n",
              "      --disabled-bg-color: #DDD;\n",
              "  }\n",
              "\n",
              "  [theme=dark] .colab-df-quickchart {\n",
              "      --bg-color: #3B4455;\n",
              "      --fill-color: #D2E3FC;\n",
              "      --hover-bg-color: #434B5C;\n",
              "      --hover-fill-color: #FFFFFF;\n",
              "      --disabled-bg-color: #3B4455;\n",
              "      --disabled-fill-color: #666;\n",
              "  }\n",
              "\n",
              "  .colab-df-quickchart {\n",
              "    background-color: var(--bg-color);\n",
              "    border: none;\n",
              "    border-radius: 50%;\n",
              "    cursor: pointer;\n",
              "    display: none;\n",
              "    fill: var(--fill-color);\n",
              "    height: 32px;\n",
              "    padding: 0;\n",
              "    width: 32px;\n",
              "  }\n",
              "\n",
              "  .colab-df-quickchart:hover {\n",
              "    background-color: var(--hover-bg-color);\n",
              "    box-shadow: 0 1px 2px rgba(60, 64, 67, 0.3), 0 1px 3px 1px rgba(60, 64, 67, 0.15);\n",
              "    fill: var(--button-hover-fill-color);\n",
              "  }\n",
              "\n",
              "  .colab-df-quickchart-complete:disabled,\n",
              "  .colab-df-quickchart-complete:disabled:hover {\n",
              "    background-color: var(--disabled-bg-color);\n",
              "    fill: var(--disabled-fill-color);\n",
              "    box-shadow: none;\n",
              "  }\n",
              "\n",
              "  .colab-df-spinner {\n",
              "    border: 2px solid var(--fill-color);\n",
              "    border-color: transparent;\n",
              "    border-bottom-color: var(--fill-color);\n",
              "    animation:\n",
              "      spin 1s steps(1) infinite;\n",
              "  }\n",
              "\n",
              "  @keyframes spin {\n",
              "    0% {\n",
              "      border-color: transparent;\n",
              "      border-bottom-color: var(--fill-color);\n",
              "      border-left-color: var(--fill-color);\n",
              "    }\n",
              "    20% {\n",
              "      border-color: transparent;\n",
              "      border-left-color: var(--fill-color);\n",
              "      border-top-color: var(--fill-color);\n",
              "    }\n",
              "    30% {\n",
              "      border-color: transparent;\n",
              "      border-left-color: var(--fill-color);\n",
              "      border-top-color: var(--fill-color);\n",
              "      border-right-color: var(--fill-color);\n",
              "    }\n",
              "    40% {\n",
              "      border-color: transparent;\n",
              "      border-right-color: var(--fill-color);\n",
              "      border-top-color: var(--fill-color);\n",
              "    }\n",
              "    60% {\n",
              "      border-color: transparent;\n",
              "      border-right-color: var(--fill-color);\n",
              "    }\n",
              "    80% {\n",
              "      border-color: transparent;\n",
              "      border-right-color: var(--fill-color);\n",
              "      border-bottom-color: var(--fill-color);\n",
              "    }\n",
              "    90% {\n",
              "      border-color: transparent;\n",
              "      border-bottom-color: var(--fill-color);\n",
              "    }\n",
              "  }\n",
              "</style>\n",
              "\n",
              "  <script>\n",
              "    async function quickchart(key) {\n",
              "      const quickchartButtonEl =\n",
              "        document.querySelector('#' + key + ' button');\n",
              "      quickchartButtonEl.disabled = true;  // To prevent multiple clicks.\n",
              "      quickchartButtonEl.classList.add('colab-df-spinner');\n",
              "      try {\n",
              "        const charts = await google.colab.kernel.invokeFunction(\n",
              "            'suggestCharts', [key], {});\n",
              "      } catch (error) {\n",
              "        console.error('Error during call to suggestCharts:', error);\n",
              "      }\n",
              "      quickchartButtonEl.classList.remove('colab-df-spinner');\n",
              "      quickchartButtonEl.classList.add('colab-df-quickchart-complete');\n",
              "    }\n",
              "    (() => {\n",
              "      let quickchartButtonEl =\n",
              "        document.querySelector('#df-b92e50e9-c312-4b79-b6db-2c47bf257799 button');\n",
              "      quickchartButtonEl.style.display =\n",
              "        google.colab.kernel.accessAllowed ? 'block' : 'none';\n",
              "    })();\n",
              "  </script>\n",
              "</div>\n",
              "    </div>\n",
              "  </div>\n"
            ]
          },
          "metadata": {},
          "execution_count": 21
        }
      ],
      "source": [
        "results"
      ]
    },
    {
      "cell_type": "code",
      "execution_count": null,
      "id": "c8d64d21",
      "metadata": {
        "ExecuteTime": {},
        "id": "c8d64d21"
      },
      "outputs": [],
      "source": [
        "# Function to plot confusion matrix\n",
        "def plot_confusion_matrix(confusion, classes, normalize=False, title=None, cmap=plt.cm.Blues, save_filename=None):\n",
        "    \"\"\"\n",
        "    This function prints and plots the confusion matrix.\n",
        "    Normalization can be applied by setting `normalize=True`.\n",
        "    \"\"\"\n",
        "    if normalize:\n",
        "        confusion = confusion.astype('float') / confusion.sum(axis=1)[:, np.newaxis]\n",
        "        print(\"Normalized confusion matrix\")\n",
        "    else:\n",
        "        print('Confusion matrix, without normalization')\n",
        "\n",
        "    print(confusion)\n",
        "\n",
        "    plt.figure(figsize=(8, 6))\n",
        "    plt.imshow(confusion, interpolation='nearest', cmap=cmap)\n",
        "    plt.title(title)\n",
        "    plt.colorbar()\n",
        "    tick_marks = np.arange(len(classes))\n",
        "    plt.xticks(tick_marks, classes, rotation=45)\n",
        "    plt.yticks(tick_marks, classes)\n",
        "\n",
        "    fmt = '.2f' if normalize else 'd'\n",
        "    thresh = confusion.max() / 2.\n",
        "    for i in range(confusion.shape[0]):\n",
        "        for j in range(confusion.shape[1]):\n",
        "            plt.text(j, i, format(confusion[i, j], fmt),\n",
        "                     ha=\"center\", va=\"center\",\n",
        "                     color=\"white\" if confusion[i, j] > thresh else \"black\")\n",
        "\n",
        "    plt.ylabel('True label')\n",
        "    plt.xlabel('Predicted label')\n",
        "    plt.tight_layout()\n",
        "\n",
        "    # Save the plot if a filename is provided\n",
        "    if save_filename:\n",
        "        plt.savefig(save_filename)\n",
        "\n",
        "# Define class labels (replace with your actual class labels)\n",
        "class_names = ['Non-Churn', 'Churn']"
      ]
    },
    {
      "cell_type": "markdown",
      "source": [
        "his Python function plot_confusion_matrix takes a confusion matrix and class names as input and generates a visual representation of the matrix. It can optionally normalize the matrix and save the plot to a file, making it a useful tool for evaluating classification model performance."
      ],
      "metadata": {
        "id": "sjNw9fIToqI0"
      },
      "id": "sjNw9fIToqI0"
    },
    {
      "cell_type": "markdown",
      "id": "33ad7a9c",
      "metadata": {
        "id": "33ad7a9c"
      },
      "source": [
        "#### RF"
      ]
    },
    {
      "cell_type": "code",
      "execution_count": null,
      "id": "2a319580",
      "metadata": {
        "ExecuteTime": {},
        "code_folding": [],
        "id": "2a319580"
      },
      "outputs": [],
      "source": [
        "# set new values for the 'RF' column\n",
        "y_pred_rf_ = np.where(y_pred_rf > 0.5, 1, 0)\n",
        "np.save('y_pred_rf_.npy', y_pred_rf_)\n",
        "results['RF'] = [accuracy_score(y_test, y_pred_rf_),\n",
        "                 precision_score(y_test, y_pred_rf_, average='weighted'),\n",
        "                 recall_score(y_test, y_pred_rf_, average='weighted'),\n",
        "                 f1_score(y_test, y_pred_rf_, average='weighted'),\n",
        "                 roc_auc_score(y_test, y_pred_rf_, average='weighted')]"
      ]
    },
    {
      "cell_type": "code",
      "execution_count": null,
      "id": "ac818d79",
      "metadata": {
        "ExecuteTime": {},
        "scrolled": true,
        "colab": {
          "base_uri": "https://localhost:8080/"
        },
        "id": "ac818d79",
        "outputId": "c8ecd24c-7f32-4762-ba07-196d4a1e5b0d"
      },
      "outputs": [
        {
          "output_type": "stream",
          "name": "stdout",
          "text": [
            "              precision    recall  f1-score   support\n",
            "\n",
            "           0       0.84      0.90      0.87      1593\n",
            "           1       0.46      0.32      0.38       407\n",
            "\n",
            "    accuracy                           0.79      2000\n",
            "   macro avg       0.65      0.61      0.63      2000\n",
            "weighted avg       0.76      0.79      0.77      2000\n",
            "\n"
          ]
        }
      ],
      "source": [
        "print(classification_report(y_test, y_pred_rf_))"
      ]
    },
    {
      "cell_type": "code",
      "execution_count": null,
      "id": "4a324fa2",
      "metadata": {
        "ExecuteTime": {},
        "code_folding": [],
        "id": "4a324fa2"
      },
      "outputs": [],
      "source": [
        "# Calculate the confusion matrix\n",
        "cm_rf = confusion_matrix(y_test, y_pred_rf_)"
      ]
    },
    {
      "cell_type": "code",
      "execution_count": null,
      "id": "2dd7fd7e",
      "metadata": {
        "ExecuteTime": {},
        "colab": {
          "base_uri": "https://localhost:8080/",
          "height": 661
        },
        "id": "2dd7fd7e",
        "outputId": "fdce9bf0-6ebf-4286-c220-6f57ebbe88f1"
      },
      "outputs": [
        {
          "output_type": "stream",
          "name": "stdout",
          "text": [
            "Normalized confusion matrix\n",
            "[[0.9039548  0.0960452 ]\n",
            " [0.67567568 0.32432432]]\n"
          ]
        },
        {
          "output_type": "display_data",
          "data": {
            "text/plain": [
              "<Figure size 800x600 with 2 Axes>"
            ],
            "image/png": "[encoded data removed]"
          },
          "metadata": {}
        }
      ],
      "source": [
        "# Call the function to plot the confusion matrix and save it to a file\n",
        "plot_confusion_matrix(cm_rf, classes=class_names, normalize=True, title='Normalized Confusion Matrix of Random Forest ', save_filename='norm_cm_random_forest.png')\n",
        "plt.show()"
      ]
    },
    {
      "cell_type": "code",
      "execution_count": null,
      "id": "edd4d3dd",
      "metadata": {
        "ExecuteTime": {},
        "colab": {
          "base_uri": "https://localhost:8080/",
          "height": 661
        },
        "id": "edd4d3dd",
        "outputId": "4ed31591-e341-4953-9582-3fb456e5520a"
      },
      "outputs": [
        {
          "output_type": "stream",
          "name": "stdout",
          "text": [
            "Confusion matrix, without normalization\n",
            "[[1440  153]\n",
            " [ 275  132]]\n"
          ]
        },
        {
          "output_type": "display_data",
          "data": {
            "text/plain": [
              "<Figure size 800x600 with 2 Axes>"
            ],
            "image/png": "[encoded data removed]"
          },
          "metadata": {}
        }
      ],
      "source": [
        "# Call the function to plot the confusion matrix and save it to a file\n",
        "plot_confusion_matrix(cm_rf, classes=class_names, normalize=False, title='Confusion Matrix of Random Forest ', save_filename='cm_random_forest.png')\n",
        "plt.show()"
      ]
    },
    {
      "cell_type": "markdown",
      "id": "5541e9ef",
      "metadata": {
        "id": "5541e9ef"
      },
      "source": [
        "#### SVM"
      ]
    },
    {
      "cell_type": "code",
      "execution_count": null,
      "id": "9b35ac63",
      "metadata": {
        "ExecuteTime": {},
        "code_folding": [],
        "id": "9b35ac63"
      },
      "outputs": [],
      "source": [
        "# set new values for the 'SVM' column\n",
        "y_pred_svm_ = np.where(y_pred_svm > 0.5, 1, 0)\n",
        "np.save('y_pred_svm_.npy', y_pred_svm_)\n",
        "results['SVM'] = [accuracy_score(y_test, y_pred_svm_),\n",
        "                 precision_score(y_test, y_pred_svm_, average='weighted'),\n",
        "                 recall_score(y_test, y_pred_svm_, average='weighted'),\n",
        "                 f1_score(y_test, y_pred_svm_, average='weighted'),\n",
        "                 roc_auc_score(y_test, y_pred_svm_, average='weighted')]"
      ]
    },
    {
      "cell_type": "code",
      "execution_count": null,
      "id": "19bfc991",
      "metadata": {
        "ExecuteTime": {},
        "scrolled": true,
        "colab": {
          "base_uri": "https://localhost:8080/"
        },
        "id": "19bfc991",
        "outputId": "7d432392-41a5-4e1a-eafc-9e72e8b94047"
      },
      "outputs": [
        {
          "output_type": "stream",
          "name": "stdout",
          "text": [
            "              precision    recall  f1-score   support\n",
            "\n",
            "           0       0.81      1.00      0.90      1593\n",
            "           1       0.87      0.11      0.20       407\n",
            "\n",
            "    accuracy                           0.82      2000\n",
            "   macro avg       0.84      0.55      0.55      2000\n",
            "weighted avg       0.82      0.82      0.75      2000\n",
            "\n"
          ]
        }
      ],
      "source": [
        "print(classification_report(y_test, y_pred_svm_))"
      ]
    },
    {
      "cell_type": "code",
      "execution_count": null,
      "id": "0754e63e",
      "metadata": {
        "ExecuteTime": {},
        "id": "0754e63e"
      },
      "outputs": [],
      "source": [
        "# Calculate the confusion matrix\n",
        "cm_svm = confusion_matrix(y_test, y_pred_svm_)"
      ]
    },
    {
      "cell_type": "code",
      "execution_count": null,
      "id": "6c99578b",
      "metadata": {
        "ExecuteTime": {},
        "colab": {
          "base_uri": "https://localhost:8080/",
          "height": 661
        },
        "id": "6c99578b",
        "outputId": "f77713fd-8076-432f-ac6b-b3fda589df82"
      },
      "outputs": [
        {
          "output_type": "stream",
          "name": "stdout",
          "text": [
            "Normalized confusion matrix\n",
            "[[0.99560578 0.00439422]\n",
            " [0.88943489 0.11056511]]\n"
          ]
        },
        {
          "output_type": "display_data",
          "data": {
            "text/plain": [
              "<Figure size 800x600 with 2 Axes>"
            ],
            "image/png": "[encoded data removed]"
          },
          "metadata": {}
        }
      ],
      "source": [
        "# Call the function to plot the confusion matrix and save it to a file\n",
        "plot_confusion_matrix(cm_svm, classes=class_names, normalize=True, title='Normalized Confusion Matrix of SVM ', save_filename='norm_cm_svm.png')\n",
        "plt.show()"
      ]
    },
    {
      "cell_type": "code",
      "execution_count": null,
      "id": "c8ff2be5",
      "metadata": {
        "ExecuteTime": {},
        "scrolled": true,
        "colab": {
          "base_uri": "https://localhost:8080/",
          "height": 661
        },
        "id": "c8ff2be5",
        "outputId": "62625782-b8a5-48a4-ba92-cc2a16ecea84"
      },
      "outputs": [
        {
          "output_type": "stream",
          "name": "stdout",
          "text": [
            "Confusion matrix, without normalization\n",
            "[[1586    7]\n",
            " [ 362   45]]\n"
          ]
        },
        {
          "output_type": "display_data",
          "data": {
            "text/plain": [
              "<Figure size 800x600 with 2 Axes>"
            ],
            "image/png": "[encoded data removed]"
          },
          "metadata": {}
        }
      ],
      "source": [
        "# Call the function to plot the confusion matrix and save it to a file\n",
        "plot_confusion_matrix(cm_svm, classes=class_names, normalize=False, title='Confusion Matrix of SVM', save_filename='cm_svm.png')\n",
        "plt.show()"
      ]
    },
    {
      "cell_type": "markdown",
      "id": "ffd72b75",
      "metadata": {
        "id": "ffd72b75"
      },
      "source": [
        "#### ANN"
      ]
    },
    {
      "cell_type": "code",
      "execution_count": null,
      "id": "fbe6f78d",
      "metadata": {
        "ExecuteTime": {},
        "code_folding": [],
        "id": "fbe6f78d"
      },
      "outputs": [],
      "source": [
        "# set new values for the 'ANN' column\n",
        "y_pred_ann_ = np.where(y_pred_ann > 0.5, 1, 0)\n",
        "np.save('y_pred_ann_.npy', y_pred_ann_)\n",
        "results['ANN'] = [accuracy_score(y_test, y_pred_ann_),\n",
        "                 precision_score(y_test, y_pred_ann_, average='weighted'),\n",
        "                 recall_score(y_test, y_pred_ann_, average='weighted'),\n",
        "                 f1_score(y_test, y_pred_ann_, average='weighted'),\n",
        "                 roc_auc_score(y_test, y_pred_ann_, average='weighted')]"
      ]
    },
    {
      "cell_type": "code",
      "execution_count": null,
      "id": "db75b168",
      "metadata": {
        "ExecuteTime": {},
        "scrolled": true,
        "colab": {
          "base_uri": "https://localhost:8080/"
        },
        "id": "db75b168",
        "outputId": "4d20a6bf-141b-4eba-8bab-ee9a70c216df"
      },
      "outputs": [
        {
          "output_type": "stream",
          "name": "stdout",
          "text": [
            "              precision    recall  f1-score   support\n",
            "\n",
            "           0       0.82      0.99      0.90      1593\n",
            "           1       0.87      0.15      0.25       407\n",
            "\n",
            "    accuracy                           0.82      2000\n",
            "   macro avg       0.84      0.57      0.58      2000\n",
            "weighted avg       0.83      0.82      0.77      2000\n",
            "\n"
          ]
        }
      ],
      "source": [
        "print(classification_report(y_test, y_pred_ann_))"
      ]
    },
    {
      "cell_type": "code",
      "execution_count": null,
      "id": "66d5ac1b",
      "metadata": {
        "ExecuteTime": {},
        "id": "66d5ac1b"
      },
      "outputs": [],
      "source": [
        "# Calculate the confusion matrix\n",
        "cm_ann = confusion_matrix(y_test, y_pred_ann_)"
      ]
    },
    {
      "cell_type": "code",
      "execution_count": null,
      "id": "c21039a6",
      "metadata": {
        "ExecuteTime": {},
        "colab": {
          "base_uri": "https://localhost:8080/",
          "height": 661
        },
        "id": "c21039a6",
        "outputId": "8513f036-d4f8-4ee9-8483-f611a5b373db"
      },
      "outputs": [
        {
          "output_type": "stream",
          "name": "stdout",
          "text": [
            "Normalized confusion matrix\n",
            "[[0.99435028 0.00564972]\n",
            " [0.85257985 0.14742015]]\n"
          ]
        },
        {
          "output_type": "display_data",
          "data": {
            "text/plain": [
              "<Figure size 800x600 with 2 Axes>"
            ],
            "image/png": "[encoded data removed]"
          },
          "metadata": {}
        }
      ],
      "source": [
        "# Call the function to plot the confusion matrix and save it to a file\n",
        "#This code generates and displays a normalized confusion matrix plot for the Artificial Neural Network (ANN) model, saving it as 'norm_cm_sdnn.png'.\n",
        "plot_confusion_matrix(cm_ann, classes=class_names, normalize=True, title='Normalized Confusion Matrix of SDNN', save_filename='norm_cm_sdnn.png')\n",
        "plt.show()"
      ]
    },
    {
      "cell_type": "code",
      "execution_count": null,
      "id": "ec0f80b2",
      "metadata": {
        "ExecuteTime": {},
        "scrolled": true,
        "colab": {
          "base_uri": "https://localhost:8080/",
          "height": 661
        },
        "id": "ec0f80b2",
        "outputId": "21a69b45-9cba-4c0e-9e57-3e073af2a1c7"
      },
      "outputs": [
        {
          "output_type": "stream",
          "name": "stdout",
          "text": [
            "Confusion matrix, without normalization\n",
            "[[1584    9]\n",
            " [ 347   60]]\n"
          ]
        },
        {
          "output_type": "display_data",
          "data": {
            "text/plain": [
              "<Figure size 800x600 with 2 Axes>"
            ],
            "image/png": "[encoded data removed]"
          },
          "metadata": {}
        }
      ],
      "source": [
        "# Call the function to plot the confusion matrix and save it to a file\n",
        "plot_confusion_matrix(cm_ann, classes=class_names, normalize=False, title='Confusion Matrix of SDNN', save_filename='cm_sdnn.png')\n",
        "plt.show()"
      ]
    },
    {
      "cell_type": "markdown",
      "id": "39c039c8",
      "metadata": {
        "id": "39c039c8"
      },
      "source": [
        "#### RF-SDNN"
      ]
    },
    {
      "cell_type": "code",
      "execution_count": null,
      "id": "9051a958",
      "metadata": {
        "ExecuteTime": {},
        "id": "9051a958"
      },
      "outputs": [],
      "source": [
        "y_pred_rfann = (y_pred_rf + y_pred_ann.flatten()) / 2\n",
        "# set new values for the 'RFANN' column\n",
        "y_pred_rfann_ = np.where(y_pred_rfann > 0.5, 1, 0)\n",
        "np.save('y_pred_rfann_.npy', y_pred_rfann_)\n",
        "results['RF-SDNN'] = [accuracy_score(y_test, y_pred_rfann_),\n",
        "                    precision_score(y_test, y_pred_rfann_, average='weighted'),\n",
        "                    recall_score(y_test, y_pred_rfann_, average='weighted'),\n",
        "                    f1_score(y_test, y_pred_rfann_, average='weighted'),\n",
        "                    roc_auc_score(y_test, y_pred_rfann_, average='weighted')]"
      ]
    },
    {
      "cell_type": "code",
      "execution_count": null,
      "id": "da8b3f2f",
      "metadata": {
        "ExecuteTime": {},
        "scrolled": true,
        "colab": {
          "base_uri": "https://localhost:8080/"
        },
        "id": "da8b3f2f",
        "outputId": "bc62ccb6-b3dc-444d-f07b-a4c4817d8ba7"
      },
      "outputs": [
        {
          "output_type": "stream",
          "name": "stdout",
          "text": [
            "              precision    recall  f1-score   support\n",
            "\n",
            "           0       0.84      0.96      0.89      1593\n",
            "           1       0.61      0.27      0.38       407\n",
            "\n",
            "    accuracy                           0.82      2000\n",
            "   macro avg       0.73      0.61      0.63      2000\n",
            "weighted avg       0.79      0.82      0.79      2000\n",
            "\n"
          ]
        }
      ],
      "source": [
        "print(classification_report(y_test, y_pred_rfann_))"
      ]
    },
    {
      "cell_type": "code",
      "execution_count": null,
      "id": "e9f9c9e5",
      "metadata": {
        "ExecuteTime": {},
        "id": "e9f9c9e5"
      },
      "outputs": [],
      "source": [
        "# Calculate the confusion matrix\n",
        "cm_rf_ann = confusion_matrix(y_test, y_pred_rfann_)"
      ]
    },
    {
      "cell_type": "code",
      "execution_count": null,
      "id": "137179cf",
      "metadata": {
        "ExecuteTime": {},
        "colab": {
          "base_uri": "https://localhost:8080/",
          "height": 661
        },
        "id": "137179cf",
        "outputId": "822ec7ca-d593-4601-ffec-5ca33802db43"
      },
      "outputs": [
        {
          "output_type": "stream",
          "name": "stdout",
          "text": [
            "Normalized confusion matrix\n",
            "[[0.9566855  0.0433145 ]\n",
            " [0.72972973 0.27027027]]\n"
          ]
        },
        {
          "output_type": "display_data",
          "data": {
            "text/plain": [
              "<Figure size 800x600 with 2 Axes>"
            ],
            "image/png": "[encoded data removed]"
          },
          "metadata": {}
        }
      ],
      "source": [
        "# Call the function to plot the confusion matrix and save it to a file\n",
        "plot_confusion_matrix(cm_rf_ann, classes=class_names, normalize=True, title='Normalized Confusion Matrix of RF-SDNN', save_filename='norm_cm_rf_sdnn.png')\n",
        "plt.show()"
      ]
    },
    {
      "cell_type": "code",
      "execution_count": null,
      "id": "d6ce45ac",
      "metadata": {
        "ExecuteTime": {},
        "scrolled": true,
        "colab": {
          "base_uri": "https://localhost:8080/",
          "height": 661
        },
        "id": "d6ce45ac",
        "outputId": "bfd70ae6-2bee-4b45-b57e-fb986f225079"
      },
      "outputs": [
        {
          "output_type": "stream",
          "name": "stdout",
          "text": [
            "Confusion matrix, without normalization\n",
            "[[1524   69]\n",
            " [ 297  110]]\n"
          ]
        },
        {
          "output_type": "display_data",
          "data": {
            "text/plain": [
              "<Figure size 800x600 with 2 Axes>"
            ],
            "image/png": "[encoded data removed]"
          },
          "metadata": {}
        }
      ],
      "source": [
        "# Call the function to plot the confusion matrix and save it to a file\n",
        "plot_confusion_matrix(cm_rf_ann, classes=class_names, normalize=False, title='Confusion Matrix of RF-SDNN', save_filename='cm_rf_sdnn.png')\n",
        "plt.show()"
      ]
    },
    {
      "cell_type": "markdown",
      "id": "c7fee6db",
      "metadata": {
        "id": "c7fee6db"
      },
      "source": [
        "#### SVMANN"
      ]
    },
    {
      "cell_type": "code",
      "execution_count": null,
      "id": "481d5d99",
      "metadata": {
        "ExecuteTime": {},
        "code_folding": [],
        "id": "481d5d99"
      },
      "outputs": [],
      "source": [
        "y_pred_svmann = (y_pred_svm + y_pred_ann.flatten()) / 2\n",
        "# set new values for the 'SVC-SDNN' column\n",
        "y_pred_svmann_ = np.where(y_pred_svmann > 0.5, 1, 0)\n",
        "np.save('y_pred_svmann_.npy', y_pred_svmann_)\n",
        "results['SVC-SDNN'] = [accuracy_score(y_test, y_pred_svmann_),\n",
        "                    precision_score(y_test, y_pred_svmann_, average='weighted'),\n",
        "                    recall_score(y_test, y_pred_svmann_, average='weighted'),\n",
        "                    f1_score(y_test, y_pred_svmann_, average='weighted'),\n",
        "                    roc_auc_score(y_test, y_pred_svmann_, average='weighted')]"
      ]
    },
    {
      "cell_type": "markdown",
      "source": [
        "This code block calculates the average probability predictions from the SVM and ANN models (y_pred_svmann) and converts these probabilities into binary class predictions (y_pred_svmann_) by applying a threshold of 0.5. It then evaluates the performance of this combined prediction using several metrics (accuracy, precision, recall, f1_score, and AUC) and stores these results in the 'SVC-SDNN' column of the results DataFrame."
      ],
      "metadata": {
        "id": "b0BxdQPpl-59"
      },
      "id": "b0BxdQPpl-59"
    },
    {
      "cell_type": "code",
      "execution_count": null,
      "id": "8ebd4657",
      "metadata": {
        "ExecuteTime": {},
        "scrolled": true,
        "colab": {
          "base_uri": "https://localhost:8080/"
        },
        "id": "8ebd4657",
        "outputId": "d98e3fdd-51ae-4796-c4c8-cc47809f005e"
      },
      "outputs": [
        {
          "output_type": "stream",
          "name": "stdout",
          "text": [
            "              precision    recall  f1-score   support\n",
            "\n",
            "           0       0.82      0.99      0.90      1593\n",
            "           1       0.87      0.14      0.25       407\n",
            "\n",
            "    accuracy                           0.82      2000\n",
            "   macro avg       0.84      0.57      0.57      2000\n",
            "weighted avg       0.83      0.82      0.77      2000\n",
            "\n"
          ]
        }
      ],
      "source": [
        "print(classification_report(y_test, y_pred_svmann_))"
      ]
    },
    {
      "cell_type": "code",
      "execution_count": null,
      "id": "b39528f3",
      "metadata": {
        "ExecuteTime": {},
        "id": "b39528f3"
      },
      "outputs": [],
      "source": [
        "# Calculate the confusion matrix\n",
        "cm_svmann = confusion_matrix(y_test, y_pred_svmann_)"
      ]
    },
    {
      "cell_type": "code",
      "execution_count": null,
      "id": "32a35f4e",
      "metadata": {
        "ExecuteTime": {},
        "colab": {
          "base_uri": "https://localhost:8080/",
          "height": 661
        },
        "id": "32a35f4e",
        "outputId": "657dcc68-1438-4f4c-af49-41b5a6546560"
      },
      "outputs": [
        {
          "output_type": "stream",
          "name": "stdout",
          "text": [
            "Normalized confusion matrix\n",
            "[[0.99435028 0.00564972]\n",
            " [0.85503686 0.14496314]]\n"
          ]
        },
        {
          "output_type": "display_data",
          "data": {
            "text/plain": [
              "<Figure size 800x600 with 2 Axes>"
            ],
            "image/png": "[encoded data removed]"
          },
          "metadata": {}
        }
      ],
      "source": [
        "# Call the function to plot the confusion matrix and save it to a file\n",
        "plot_confusion_matrix(cm_svmann, classes=class_names, normalize=True, title='Normalized Confusion Matrix of SVC-SDNN', save_filename='norm_cm_svc_sdnn.png')\n",
        "plt.show()"
      ]
    },
    {
      "cell_type": "code",
      "execution_count": null,
      "id": "f8ab28e4",
      "metadata": {
        "ExecuteTime": {},
        "scrolled": true,
        "colab": {
          "base_uri": "https://localhost:8080/",
          "height": 661
        },
        "id": "f8ab28e4",
        "outputId": "38aad7cf-9562-4339-b00f-8994468e9721"
      },
      "outputs": [
        {
          "output_type": "stream",
          "name": "stdout",
          "text": [
            "Confusion matrix, without normalization\n",
            "[[1584    9]\n",
            " [ 348   59]]\n"
          ]
        },
        {
          "output_type": "display_data",
          "data": {
            "text/plain": [
              "<Figure size 800x600 with 2 Axes>"
            ],
            "image/png": "[encoded data removed]"
          },
          "metadata": {}
        }
      ],
      "source": [
        "# Call the function to plot the confusion matrix and save it to a file\n",
        "plot_confusion_matrix(cm_svmann, classes=class_names, normalize=False, title='Confusion Matrix of SVC-SDNN', save_filename='cm_svc_sdnn.png')\n",
        "plt.show()"
      ]
    },
    {
      "cell_type": "code",
      "execution_count": null,
      "id": "7792b8b2",
      "metadata": {
        "ExecuteTime": {},
        "scrolled": true,
        "colab": {
          "base_uri": "https://localhost:8080/",
          "height": 179
        },
        "id": "7792b8b2",
        "outputId": "5376952b-cf2d-40bd-b4f9-d77b2bb3d40e"
      },
      "outputs": [
        {
          "output_type": "error",
          "ename": "NameError",
          "evalue": "ignored",
          "traceback": [
            "\u001b[0;31m---------------------------------------------------------------------------\u001b[0m",
            "\u001b[0;31mNameError\u001b[0m                                 Traceback (most recent call last)",
            "\u001b[0;32m<ipython-input-1-100f62972f2f>\u001b[0m in \u001b[0;36m<cell line: 1>\u001b[0;34m()\u001b[0m\n\u001b[0;32m----> 1\u001b[0;31m \u001b[0mresults\u001b[0m\u001b[0;34m\u001b[0m\u001b[0;34m\u001b[0m\u001b[0m\n\u001b[0m",
            "\u001b[0;31mNameError\u001b[0m: name 'results' is not defined"
          ]
        }
      ],
      "source": [
        "results"
      ]
    },
    {
      "cell_type": "code",
      "execution_count": null,
      "id": "8d2e5845",
      "metadata": {
        "ExecuteTime": {},
        "id": "8d2e5845"
      },
      "outputs": [],
      "source": [
        "# save the dataframe to a csv file\n",
        "results.to_csv('results.csv')"
      ]
    }
  ],
  "metadata": {
    "hide_input": false,
    "kernelspec": {
      "display_name": "Python 3 (ipykernel)",
      "language": "python",
      "name": "python3"
    },
    "language_info": {
      "codemirror_mode": {
        "name": "ipython",
        "version": 3
      },
      "file_extension": ".py",
      "mimetype": "text/x-python",
      "name": "python",
      "nbconvert_exporter": "python",
      "pygments_lexer": "ipython3",
      "version": "3.11.5"
    },
    "varInspector": {
      "cols": {
        "lenName": 16,
        "lenType": 16,
        "lenVar": 40
      },
      "kernels_config": {
        "python": {
          "delete_cmd_postfix": "",
          "delete_cmd_prefix": "del ",
          "library": "var_list.py",
          "varRefreshCmd": "print(var_dic_list())"
        },
        "r": {
          "delete_cmd_postfix": ") ",
          "delete_cmd_prefix": "rm(",
          "library": "var_list.r",
          "varRefreshCmd": "cat(var_dic_list()) "
        }
      },
      "types_to_exclude": [
        "module",
        "function",
        "builtin_function_or_method",
        "instance",
        "_Feature"
      ],
      "window_display": false
    },
    "colab": {
      "provenance": []
    }
  },
  "nbformat": 4,
  "nbformat_minor": 5
}